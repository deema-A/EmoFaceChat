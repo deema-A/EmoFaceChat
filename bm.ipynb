{
 "cells": [
  {
   "cell_type": "code",
   "execution_count": 5,
   "metadata": {},
   "outputs": [
    {
     "ename": "TypeError",
     "evalue": "unsupported operand type(s) for +=: 'int' and 'str'",
     "output_type": "error",
     "traceback": [
      "\u001b[0;31m---------------------------------------------------------------------------\u001b[0m",
      "\u001b[0;31mTypeError\u001b[0m                                 Traceback (most recent call last)",
      "Cell \u001b[0;32mIn[5], line 25\u001b[0m\n\u001b[1;32m     23\u001b[0m \t\t\t\tdic[filename][\u001b[39m\"\u001b[39m\u001b[39mavg\u001b[39m\u001b[39m\"\u001b[39m\u001b[39m+\u001b[39m\u001b[39mstr\u001b[39m(avg_cn)] \u001b[39m=\u001b[39m \u001b[39msum\u001b[39m\u001b[39m/\u001b[39m\u001b[39m6\u001b[39m\n\u001b[1;32m     24\u001b[0m \t\t\t\t\u001b[39msum\u001b[39m \u001b[39m=\u001b[39m \u001b[39m0\u001b[39m\n\u001b[0;32m---> 25\u001b[0m \t\t\t\u001b[39msum\u001b[39m \u001b[39m+\u001b[39m\u001b[39m=\u001b[39m line\n\u001b[1;32m     26\u001b[0m \t\tdic[filename][\u001b[39m\"\u001b[39m\u001b[39mstd\u001b[39m\u001b[39m\"\u001b[39m] \u001b[39m=\u001b[39m stat\u001b[39m.\u001b[39mstdev([dic[filename][\u001b[39m\"\u001b[39m\u001b[39mavg1\u001b[39m\u001b[39m\"\u001b[39m], dic[filename][\u001b[39m\"\u001b[39m\u001b[39mavg2\u001b[39m\u001b[39m\"\u001b[39m], dic[filename][\u001b[39m\"\u001b[39m\u001b[39mavg3\u001b[39m\u001b[39m\"\u001b[39m]])\n\u001b[1;32m     28\u001b[0m \u001b[39mwith\u001b[39;00m \u001b[39mopen\u001b[39m(\u001b[39m\"\u001b[39m\u001b[39mbm_res.json\u001b[39m\u001b[39m\"\u001b[39m, \u001b[39m\"\u001b[39m\u001b[39mw\u001b[39m\u001b[39m\"\u001b[39m) \u001b[39mas\u001b[39;00m outfile:\n",
      "\u001b[0;31mTypeError\u001b[0m: unsupported operand type(s) for +=: 'int' and 'str'"
     ]
    }
   ],
   "source": [
    "# import required module\n",
    "import os\n",
    "import json\n",
    "import statistics as stat\n",
    "\n",
    "# assign directory\n",
    "directory = 'bm'\n",
    "\n",
    "dic = {}\n",
    "# iterate over files in\n",
    "# that directory\n",
    "for filename in os.listdir(directory):\n",
    "\tf = os.path.join(directory, filename)\n",
    "\tdic[filename] = {}\n",
    "\t# checking if it is a file\n",
    "\tif os.path.isfile(f):\n",
    "\t\tfc = open(f, \"r\")\n",
    "\t\tsum = 0\n",
    "\t\tavg_cn = 0\n",
    "\t\tfor index, line in enumerate(fc):\n",
    "\t\t\tif (index+1)%6 == 0:\n",
    "\t\t\t\tavg_cn += 1\n",
    "\t\t\t\tdic[filename][\"avg\"+str(avg_cn)] = sum/6\n",
    "\t\t\t\tsum = 0\n",
    "\t\t\tsum += float(line)\n",
    "\t\tdic[filename][\"std\"] = stat.stdev([dic[filename][\"avg1\"], dic[filename][\"avg2\"], dic[filename][\"avg3\"]])\n",
    "\n",
    "with open(\"bm_res.json\", \"w\") as outfile:\n",
    "    json.dump(dic, outfile)"
   ]
  },
  {
   "cell_type": "code",
   "execution_count": null,
   "metadata": {},
   "outputs": [],
   "source": []
  }
 ],
 "metadata": {
  "kernelspec": {
   "display_name": "Python 3",
   "language": "python",
   "name": "python3"
  },
  "language_info": {
   "codemirror_mode": {
    "name": "ipython",
    "version": 3
   },
   "file_extension": ".py",
   "mimetype": "text/x-python",
   "name": "python",
   "nbconvert_exporter": "python",
   "pygments_lexer": "ipython3",
   "version": "3.10.6"
  },
  "orig_nbformat": 4,
  "vscode": {
   "interpreter": {
    "hash": "31f2aee4e71d21fbe5cf8b01ff0e069b9275f58929596ceb00d14d90e3e16cd6"
   }
  }
 },
 "nbformat": 4,
 "nbformat_minor": 2
}
